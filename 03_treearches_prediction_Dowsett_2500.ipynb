{
 "cells": [
  {
   "cell_type": "markdown",
   "id": "c8c6d52a-e5c0-4f17-8f2c-dcff1f1860d4",
   "metadata": {},
   "source": [
    "# Dowsett dataset prediction with complete tree"
   ]
  },
  {
   "cell_type": "markdown",
   "id": "7a3ed875-5654-4683-8218-43d2f4af89ad",
   "metadata": {},
   "source": [
    "### Load packages/libraries"
   ]
  },
  {
   "cell_type": "code",
   "execution_count": 1,
   "id": "d622da2c-f3db-4ce7-aa5f-e1a25f9964f1",
   "metadata": {},
   "outputs": [],
   "source": [
    "import os\n",
    "os.chdir('../')\n",
    "import warnings\n",
    "warnings.simplefilter(action='ignore', category=FutureWarning)\n",
    "warnings.simplefilter(action='ignore', category=UserWarning)"
   ]
  },
  {
   "cell_type": "code",
   "execution_count": 2,
   "id": "a35fc390-5e81-4d93-8067-e44929bc9020",
   "metadata": {},
   "outputs": [],
   "source": [
    "import matplotlib\n",
    "import matplotlib.pyplot as plt\n",
    "import numpy as np\n",
    "import gdown\n",
    "import copy as cp\n",
    "import seaborn as sns\n",
    "import pandas as pd\n",
    "import anndata as ad\n",
    "import pickle\n",
    "from scipy.sparse import hstack, csc_matrix\n",
    "import scanpy as sc\n",
    "import torch"
   ]
  },
  {
   "cell_type": "code",
   "execution_count": 3,
   "id": "b7826845-bb6b-4721-8447-78c7dd78af00",
   "metadata": {},
   "outputs": [
    {
     "name": "stderr",
     "output_type": "stream",
     "text": [
      "Global seed set to 0\n"
     ]
    }
   ],
   "source": [
    "import scarches as sca\n",
    "import scHPL\n",
    "from scarches.dataset.trvae.data_handling import remove_sparsity"
   ]
  },
  {
   "cell_type": "markdown",
   "id": "eac9e7fe-4b24-4f3b-ad6e-31a02ecb4b4d",
   "metadata": {},
   "source": [
    "### Set other parameters"
   ]
  },
  {
   "cell_type": "code",
   "execution_count": 4,
   "id": "5baa0273-8a7a-471f-aa4c-cc6f84a4d98b",
   "metadata": {},
   "outputs": [],
   "source": [
    "sc.settings.set_figure_params(dpi=1000, frameon=False)\n",
    "sc.set_figure_params(dpi=1000)\n",
    "sc.set_figure_params(figsize=(7,7))\n",
    "torch.set_printoptions(precision=3, sci_mode=False, edgeitems=7)\n",
    "\n",
    "import matplotlib\n",
    "matplotlib.rcParams['pdf.fonttype'] = 42"
   ]
  },
  {
   "cell_type": "markdown",
   "id": "cbd65c67-ad1b-4b8f-a47e-403193d58197",
   "metadata": {},
   "source": [
    "### Import necessary data/objects"
   ]
  },
  {
   "cell_type": "code",
   "execution_count": 5,
   "id": "fa39a096-9dc2-45c5-8606-a4c73ff8e3b8",
   "metadata": {},
   "outputs": [
    {
     "data": {
      "text/plain": [
       "AnnData object with n_obs × n_vars = 171868 × 2500\n",
       "    obs: 'orig.ident', 'nCount_RNA', 'nFeature_RNA', 'ratio_nCount_nFeat', 'doubletfinder_class', 'seq_sample', 'treatment', 'single_r_celltypes', 'chen_celltypes', 'tasic_celltypes', 'romanov_celltypes', 'camp1_celltypes_full', 'identity_layer1', 'identity_layer2', 'identity_layer3', 'study', 'cellident_study', '_scvi_batch', '_scvi_labels', 'Unnamed: 0', 'percent.mito', 'percent.ribo', 'cell.type', 'neuronal.subtype', 'cell_barcode', 'ref_query1'\n",
       "    var: 'mvp.mean-0', 'mvp.dispersion-0', 'mvp.dispersion.scaled-0', 'mvp.variable-0', 'highly_variable-0', 'means-0', 'dispersions-0', 'dispersions_norm-0', 'highly_variable_nbatches-0', 'highly_variable_intersection-0'\n",
       "    layers: 'counts'"
      ]
     },
     "execution_count": 5,
     "metadata": {},
     "output_type": "execute_result"
    }
   ],
   "source": [
    "#Full AnnData (Hes and Ludwig)\n",
    "adata_full = sc.read('surgery_model_ludwig_2500/hesludwig_adata_processed_2500.h5ad')\n",
    "adata_full"
   ]
  },
  {
   "cell_type": "code",
   "execution_count": 6,
   "id": "99d18c4c-f088-4169-8ca0-5ff85155a2fe",
   "metadata": {},
   "outputs": [],
   "source": [
    "##Read the tree\n",
    "file_to_read = open('full_model_2500/tree_full_HesLudwig_2500.pickle', 'rb')\n",
    "tree_rq = pickle.load(file_to_read)\n",
    "file_to_read.close()"
   ]
  },
  {
   "cell_type": "markdown",
   "id": "29a8338d-774c-4b36-a005-d45b7e43a210",
   "metadata": {},
   "source": [
    "#### Dowsett et al. dataset"
   ]
  },
  {
   "cell_type": "code",
   "execution_count": 7,
   "id": "9a882b2c-5d8b-4e3a-bc77-bd8cc5a8a06b",
   "metadata": {},
   "outputs": [
    {
     "data": {
      "text/plain": [
       "AnnData object with n_obs × n_vars = 15931 × 55406\n",
       "    obs: 'orig.ident', 'nCount_RNA', 'nFeature_RNA', 'percmt', 'ratio_nCount_nFeat', 'RNA_snn_res.0.2', 'RNA_snn_res.0.3', 'RNA_snn_res.0.5', 'RNA_snn_res.0.7', 'RNA_snn_res.1', 'seurat_clusters', 'treatment', 'pANN_0.25_0.005_256', 'doubletfinder_class', 'pANN_0.25_0.005_273', 'seq_sample', 'cell_barcode'\n",
       "    var: 'mvp.mean', 'mvp.dispersion', 'mvp.dispersion.scaled', 'mvp.variable'\n",
       "    layers: 'counts', 'data'"
      ]
     },
     "execution_count": 7,
     "metadata": {},
     "output_type": "execute_result"
    }
   ],
   "source": [
    "#Dowsett data with the missing genes added\n",
    "adata_dowsett = sc.read('DVC_datasets_2500/dowsett_data_2500.h5ad')\n",
    "adata_dowsett"
   ]
  },
  {
   "cell_type": "markdown",
   "id": "a2eac30c-9448-45bd-896d-76d1c4bf6d4a",
   "metadata": {},
   "source": [
    "### Prepare data"
   ]
  },
  {
   "cell_type": "markdown",
   "id": "690fa918-64e6-42f1-ab17-10c2749de968",
   "metadata": {},
   "source": [
    "Subset the Dowsett dataset to the original 2500 most variable genes in the Hes dataset"
   ]
  },
  {
   "cell_type": "code",
   "execution_count": 8,
   "id": "c289aec0-c1ce-48bf-bde7-2fb170267e07",
   "metadata": {},
   "outputs": [
    {
     "data": {
      "text/plain": [
       "View of AnnData object with n_obs × n_vars = 15931 × 2500\n",
       "    obs: 'orig.ident', 'nCount_RNA', 'nFeature_RNA', 'percmt', 'ratio_nCount_nFeat', 'RNA_snn_res.0.2', 'RNA_snn_res.0.3', 'RNA_snn_res.0.5', 'RNA_snn_res.0.7', 'RNA_snn_res.1', 'seurat_clusters', 'treatment', 'pANN_0.25_0.005_256', 'doubletfinder_class', 'pANN_0.25_0.005_273', 'seq_sample', 'cell_barcode'\n",
       "    var: 'mvp.mean', 'mvp.dispersion', 'mvp.dispersion.scaled', 'mvp.variable'\n",
       "    layers: 'counts', 'data'"
      ]
     },
     "execution_count": 8,
     "metadata": {},
     "output_type": "execute_result"
    }
   ],
   "source": [
    "adata_dowsett = adata_dowsett[:, adata_full.var_names]\n",
    "adata_dowsett"
   ]
  },
  {
   "cell_type": "code",
   "execution_count": 9,
   "id": "cd60ae4e-ae88-480e-8219-1b5727ba7609",
   "metadata": {},
   "outputs": [],
   "source": [
    "#Normalize Dowsett dataset\n",
    "sc.pp.normalize_total(adata_dowsett)"
   ]
  },
  {
   "cell_type": "markdown",
   "id": "f2e32459-fc74-4381-ac83-88c9cbb442f0",
   "metadata": {},
   "source": [
    "Build latent representation for new query (the Dowsett data)"
   ]
  },
  {
   "cell_type": "code",
   "execution_count": 10,
   "id": "98735ec2-e6ce-4410-b07e-14fab23340a3",
   "metadata": {},
   "outputs": [
    {
     "name": "stdout",
     "output_type": "stream",
     "text": [
      "\u001b[34mINFO    \u001b[0m File full_model_2500/model.pt already downloaded                                                          \n"
     ]
    }
   ],
   "source": [
    "full_path = 'full_model_2500/'\n",
    "\n",
    "model = sca.models.SCVI.load_query_data(\n",
    "    adata_dowsett,\n",
    "    full_path,\n",
    "    freeze_dropout = True,\n",
    ")"
   ]
  },
  {
   "cell_type": "code",
   "execution_count": 11,
   "id": "a12ff11c-2ffb-4d04-a4d0-406fded42ac7",
   "metadata": {},
   "outputs": [
    {
     "name": "stderr",
     "output_type": "stream",
     "text": [
      "GPU available: False, used: False\n",
      "TPU available: False, using: 0 TPU cores\n",
      "IPU available: False, using: 0 IPUs\n",
      "HPU available: False, using: 0 HPUs\n"
     ]
    },
    {
     "name": "stdout",
     "output_type": "stream",
     "text": [
      "Epoch 50/50: 100%|███████████| 50/50 [01:45<00:00,  2.11s/it, loss=710, v_num=1]\n"
     ]
    }
   ],
   "source": [
    "model.train(max_epochs=50)"
   ]
  },
  {
   "cell_type": "code",
   "execution_count": 12,
   "id": "277a6328-b2cb-49a5-826b-49204da7cf5f",
   "metadata": {},
   "outputs": [],
   "source": [
    "query_latent = sc.AnnData(model.get_latent_representation())"
   ]
  },
  {
   "cell_type": "code",
   "execution_count": 13,
   "id": "5400d247-15a7-48e7-97fe-72ed886bb13b",
   "metadata": {},
   "outputs": [],
   "source": [
    "query_latent.obs['orig.ident'] = adata_dowsett.obs[\"orig.ident\"].tolist()\n",
    "query_latent.obs[\"seq_sample\"] = adata_dowsett.obs[\"seq_sample\"].tolist()"
   ]
  },
  {
   "cell_type": "code",
   "execution_count": 14,
   "id": "cb0f812f-1be2-4e1e-b85a-09b6089779de",
   "metadata": {},
   "outputs": [],
   "source": [
    "#Save this model\n",
    "model.save('surgery_model_dowsett_2500/', overwrite=True)\n",
    "query_latent.write('surgery_model_dowsett_2500/dowsett_latent_2500.h5ad')"
   ]
  },
  {
   "cell_type": "markdown",
   "id": "1d20f606-bcbe-41c8-b775-532c8db7b042",
   "metadata": {},
   "source": [
    "### Prediction"
   ]
  },
  {
   "cell_type": "code",
   "execution_count": 15,
   "id": "eb9ff5c5-38af-4deb-832b-cf3db90a5ff1",
   "metadata": {},
   "outputs": [],
   "source": [
    "#Using the full reference tree (Hes and Ludwig)\n",
    "dowsett_pred = scHPL.predict.predict_labels(query_latent.X, tree = tree_rq, threshold = 0.5)"
   ]
  },
  {
   "cell_type": "code",
   "execution_count": 16,
   "id": "9bc57435-ce40-4d3b-9a78-4fe1255b9a08",
   "metadata": {},
   "outputs": [],
   "source": [
    "#Save the resulting object\n",
    "file_to_store = open('prediction_dowsett_2500/dowsett_pred_2500.pickle', 'wb')\n",
    "pickle.dump(dowsett_pred, file_to_store)\n",
    "file_to_store.close()"
   ]
  },
  {
   "cell_type": "markdown",
   "id": "ded65bc8-839d-420f-8201-6249469a0a3c",
   "metadata": {},
   "source": [
    "Transfer labels"
   ]
  },
  {
   "cell_type": "code",
   "execution_count": 17,
   "id": "51eeb5bf-6c84-41c9-a47c-146806ab5335",
   "metadata": {},
   "outputs": [
    {
     "data": {
      "text/plain": [
       "array(['Sall3_Nox4_Hes', 'myelinating_OL_Hes',\n",
       "       'myelinating_intermediate_OL_Hes', 'mixed_neurons3_Hes',\n",
       "       'myelinating_intermediate_OL_Hes', 'Oligodendrocytes_ludwig',\n",
       "       'myelinating_intermediate_OL_Hes', ..., 'mixed_neurons3_Hes',\n",
       "       'mixed_neurons3_Hes', 'A_M2_Hes',\n",
       "       'myelinating_intermediate_OL_Hes', 'paradoxic_Hes',\n",
       "       'myelinating_intermediate_OL_Hes', 'premyelinating_OL_Hes'],\n",
       "      dtype='<U31')"
      ]
     },
     "execution_count": 17,
     "metadata": {},
     "output_type": "execute_result"
    }
   ],
   "source": [
    "dowsett_pred[0]"
   ]
  },
  {
   "cell_type": "code",
   "execution_count": 18,
   "id": "8b510728-155d-4812-85d1-22073e9c3ada",
   "metadata": {},
   "outputs": [],
   "source": [
    "query_latent.obs['identity_layer3'] = dowsett_pred[0]\n",
    "adata_dowsett.obs['identity_layer3'] = dowsett_pred[0]"
   ]
  },
  {
   "cell_type": "code",
   "execution_count": 19,
   "id": "38ef22f8-b311-41ba-b1c6-0102e4a3e463",
   "metadata": {},
   "outputs": [
    {
     "data": {
      "text/html": [
       "<div>\n",
       "<style scoped>\n",
       "    .dataframe tbody tr th:only-of-type {\n",
       "        vertical-align: middle;\n",
       "    }\n",
       "\n",
       "    .dataframe tbody tr th {\n",
       "        vertical-align: top;\n",
       "    }\n",
       "\n",
       "    .dataframe thead th {\n",
       "        text-align: right;\n",
       "    }\n",
       "</style>\n",
       "<table border=\"1\" class=\"dataframe\">\n",
       "  <thead>\n",
       "    <tr style=\"text-align: right;\">\n",
       "      <th></th>\n",
       "      <th>orig.ident</th>\n",
       "      <th>nCount_RNA</th>\n",
       "      <th>nFeature_RNA</th>\n",
       "      <th>percmt</th>\n",
       "      <th>ratio_nCount_nFeat</th>\n",
       "      <th>RNA_snn_res.0.2</th>\n",
       "      <th>RNA_snn_res.0.3</th>\n",
       "      <th>RNA_snn_res.0.5</th>\n",
       "      <th>RNA_snn_res.0.7</th>\n",
       "      <th>RNA_snn_res.1</th>\n",
       "      <th>seurat_clusters</th>\n",
       "      <th>treatment</th>\n",
       "      <th>pANN_0.25_0.005_256</th>\n",
       "      <th>doubletfinder_class</th>\n",
       "      <th>pANN_0.25_0.005_273</th>\n",
       "      <th>seq_sample</th>\n",
       "      <th>cell_barcode</th>\n",
       "      <th>_scvi_batch</th>\n",
       "      <th>_scvi_labels</th>\n",
       "      <th>identity_layer3</th>\n",
       "    </tr>\n",
       "  </thead>\n",
       "  <tbody>\n",
       "    <tr>\n",
       "      <th>nts_adlib1_AAACCCACAGATCCTA-1</th>\n",
       "      <td>dowsett_adlib1</td>\n",
       "      <td>6962.0</td>\n",
       "      <td>3088</td>\n",
       "      <td>0.014364</td>\n",
       "      <td>2.254534</td>\n",
       "      <td>9</td>\n",
       "      <td>9</td>\n",
       "      <td>8</td>\n",
       "      <td>7</td>\n",
       "      <td>8</td>\n",
       "      <td>8</td>\n",
       "      <td>adlib</td>\n",
       "      <td>0.037037</td>\n",
       "      <td>Singlet</td>\n",
       "      <td>NaN</td>\n",
       "      <td>nts_adlib1</td>\n",
       "      <td>AAACCCACAGATCCTA-1</td>\n",
       "      <td>7</td>\n",
       "      <td>0</td>\n",
       "      <td>Sall3_Nox4_Hes</td>\n",
       "    </tr>\n",
       "    <tr>\n",
       "      <th>nts_adlib1_AAACCCAGTCTTGTCC-1</th>\n",
       "      <td>dowsett_adlib1</td>\n",
       "      <td>2365.0</td>\n",
       "      <td>1364</td>\n",
       "      <td>0.000000</td>\n",
       "      <td>1.733871</td>\n",
       "      <td>2</td>\n",
       "      <td>2</td>\n",
       "      <td>2</td>\n",
       "      <td>13</td>\n",
       "      <td>13</td>\n",
       "      <td>13</td>\n",
       "      <td>adlib</td>\n",
       "      <td>0.000000</td>\n",
       "      <td>Singlet</td>\n",
       "      <td>NaN</td>\n",
       "      <td>nts_adlib1</td>\n",
       "      <td>AAACCCAGTCTTGTCC-1</td>\n",
       "      <td>7</td>\n",
       "      <td>0</td>\n",
       "      <td>myelinating_OL_Hes</td>\n",
       "    </tr>\n",
       "    <tr>\n",
       "      <th>nts_adlib1_AAACCCAGTGATTCTG-1</th>\n",
       "      <td>dowsett_adlib1</td>\n",
       "      <td>2435.0</td>\n",
       "      <td>1241</td>\n",
       "      <td>0.000000</td>\n",
       "      <td>1.962127</td>\n",
       "      <td>1</td>\n",
       "      <td>0</td>\n",
       "      <td>0</td>\n",
       "      <td>1</td>\n",
       "      <td>0</td>\n",
       "      <td>0</td>\n",
       "      <td>adlib</td>\n",
       "      <td>0.000000</td>\n",
       "      <td>Singlet</td>\n",
       "      <td>NaN</td>\n",
       "      <td>nts_adlib1</td>\n",
       "      <td>AAACCCAGTGATTCTG-1</td>\n",
       "      <td>7</td>\n",
       "      <td>0</td>\n",
       "      <td>myelinating_intermediate_OL_Hes</td>\n",
       "    </tr>\n",
       "    <tr>\n",
       "      <th>nts_adlib1_AAACGCTCACATTCGA-1</th>\n",
       "      <td>dowsett_adlib1</td>\n",
       "      <td>19008.0</td>\n",
       "      <td>5598</td>\n",
       "      <td>0.021044</td>\n",
       "      <td>3.395498</td>\n",
       "      <td>0</td>\n",
       "      <td>1</td>\n",
       "      <td>1</td>\n",
       "      <td>0</td>\n",
       "      <td>2</td>\n",
       "      <td>2</td>\n",
       "      <td>adlib</td>\n",
       "      <td>0.148148</td>\n",
       "      <td>Singlet</td>\n",
       "      <td>NaN</td>\n",
       "      <td>nts_adlib1</td>\n",
       "      <td>AAACGCTCACATTCGA-1</td>\n",
       "      <td>7</td>\n",
       "      <td>0</td>\n",
       "      <td>mixed_neurons3_Hes</td>\n",
       "    </tr>\n",
       "    <tr>\n",
       "      <th>nts_adlib1_AAACGCTCAGACGGAT-1</th>\n",
       "      <td>dowsett_adlib1</td>\n",
       "      <td>2654.0</td>\n",
       "      <td>1319</td>\n",
       "      <td>0.000000</td>\n",
       "      <td>2.012130</td>\n",
       "      <td>1</td>\n",
       "      <td>0</td>\n",
       "      <td>0</td>\n",
       "      <td>1</td>\n",
       "      <td>0</td>\n",
       "      <td>0</td>\n",
       "      <td>adlib</td>\n",
       "      <td>0.000000</td>\n",
       "      <td>Singlet</td>\n",
       "      <td>NaN</td>\n",
       "      <td>nts_adlib1</td>\n",
       "      <td>AAACGCTCAGACGGAT-1</td>\n",
       "      <td>7</td>\n",
       "      <td>0</td>\n",
       "      <td>myelinating_intermediate_OL_Hes</td>\n",
       "    </tr>\n",
       "    <tr>\n",
       "      <th>...</th>\n",
       "      <td>...</td>\n",
       "      <td>...</td>\n",
       "      <td>...</td>\n",
       "      <td>...</td>\n",
       "      <td>...</td>\n",
       "      <td>...</td>\n",
       "      <td>...</td>\n",
       "      <td>...</td>\n",
       "      <td>...</td>\n",
       "      <td>...</td>\n",
       "      <td>...</td>\n",
       "      <td>...</td>\n",
       "      <td>...</td>\n",
       "      <td>...</td>\n",
       "      <td>...</td>\n",
       "      <td>...</td>\n",
       "      <td>...</td>\n",
       "      <td>...</td>\n",
       "      <td>...</td>\n",
       "      <td>...</td>\n",
       "    </tr>\n",
       "    <tr>\n",
       "      <th>nts_fast2_TTTGTTGAGCGCGTTC-1</th>\n",
       "      <td>dowsett_fasted2</td>\n",
       "      <td>4252.0</td>\n",
       "      <td>2238</td>\n",
       "      <td>0.023518</td>\n",
       "      <td>1.899911</td>\n",
       "      <td>0</td>\n",
       "      <td>1</td>\n",
       "      <td>1</td>\n",
       "      <td>0</td>\n",
       "      <td>1</td>\n",
       "      <td>1</td>\n",
       "      <td>fast</td>\n",
       "      <td>NaN</td>\n",
       "      <td>Singlet</td>\n",
       "      <td>0.000000</td>\n",
       "      <td>nts_fast2</td>\n",
       "      <td>TTTGTTGAGCGCGTTC-1</td>\n",
       "      <td>10</td>\n",
       "      <td>0</td>\n",
       "      <td>A_M2_Hes</td>\n",
       "    </tr>\n",
       "    <tr>\n",
       "      <th>nts_fast2_TTTGTTGAGGCCCACT-1</th>\n",
       "      <td>dowsett_fasted2</td>\n",
       "      <td>3787.0</td>\n",
       "      <td>1538</td>\n",
       "      <td>0.000000</td>\n",
       "      <td>2.462289</td>\n",
       "      <td>1</td>\n",
       "      <td>0</td>\n",
       "      <td>0</td>\n",
       "      <td>1</td>\n",
       "      <td>0</td>\n",
       "      <td>0</td>\n",
       "      <td>fast</td>\n",
       "      <td>NaN</td>\n",
       "      <td>Singlet</td>\n",
       "      <td>0.000000</td>\n",
       "      <td>nts_fast2</td>\n",
       "      <td>TTTGTTGAGGCCCACT-1</td>\n",
       "      <td>10</td>\n",
       "      <td>0</td>\n",
       "      <td>myelinating_intermediate_OL_Hes</td>\n",
       "    </tr>\n",
       "    <tr>\n",
       "      <th>nts_fast2_TTTGTTGCACCGGAAA-1</th>\n",
       "      <td>dowsett_fasted2</td>\n",
       "      <td>11627.0</td>\n",
       "      <td>4109</td>\n",
       "      <td>0.000000</td>\n",
       "      <td>2.829642</td>\n",
       "      <td>5</td>\n",
       "      <td>6</td>\n",
       "      <td>10</td>\n",
       "      <td>19</td>\n",
       "      <td>22</td>\n",
       "      <td>22</td>\n",
       "      <td>fast</td>\n",
       "      <td>NaN</td>\n",
       "      <td>Singlet</td>\n",
       "      <td>0.125000</td>\n",
       "      <td>nts_fast2</td>\n",
       "      <td>TTTGTTGCACCGGAAA-1</td>\n",
       "      <td>10</td>\n",
       "      <td>0</td>\n",
       "      <td>paradoxic_Hes</td>\n",
       "    </tr>\n",
       "    <tr>\n",
       "      <th>nts_fast2_TTTGTTGGTAGCGATG-1</th>\n",
       "      <td>dowsett_fasted2</td>\n",
       "      <td>1746.0</td>\n",
       "      <td>1031</td>\n",
       "      <td>0.057274</td>\n",
       "      <td>1.693501</td>\n",
       "      <td>1</td>\n",
       "      <td>0</td>\n",
       "      <td>0</td>\n",
       "      <td>1</td>\n",
       "      <td>3</td>\n",
       "      <td>3</td>\n",
       "      <td>fast</td>\n",
       "      <td>NaN</td>\n",
       "      <td>Singlet</td>\n",
       "      <td>0.000000</td>\n",
       "      <td>nts_fast2</td>\n",
       "      <td>TTTGTTGGTAGCGATG-1</td>\n",
       "      <td>10</td>\n",
       "      <td>0</td>\n",
       "      <td>myelinating_intermediate_OL_Hes</td>\n",
       "    </tr>\n",
       "    <tr>\n",
       "      <th>nts_fast2_TTTGTTGGTGGCCCAT-1</th>\n",
       "      <td>dowsett_fasted2</td>\n",
       "      <td>4005.0</td>\n",
       "      <td>1956</td>\n",
       "      <td>0.000000</td>\n",
       "      <td>2.047546</td>\n",
       "      <td>13</td>\n",
       "      <td>13</td>\n",
       "      <td>13</td>\n",
       "      <td>20</td>\n",
       "      <td>24</td>\n",
       "      <td>24</td>\n",
       "      <td>fast</td>\n",
       "      <td>NaN</td>\n",
       "      <td>Singlet</td>\n",
       "      <td>0.214286</td>\n",
       "      <td>nts_fast2</td>\n",
       "      <td>TTTGTTGGTGGCCCAT-1</td>\n",
       "      <td>10</td>\n",
       "      <td>0</td>\n",
       "      <td>premyelinating_OL_Hes</td>\n",
       "    </tr>\n",
       "  </tbody>\n",
       "</table>\n",
       "<p>15931 rows × 20 columns</p>\n",
       "</div>"
      ],
      "text/plain": [
       "                                    orig.ident  nCount_RNA  nFeature_RNA  \\\n",
       "nts_adlib1_AAACCCACAGATCCTA-1   dowsett_adlib1      6962.0          3088   \n",
       "nts_adlib1_AAACCCAGTCTTGTCC-1   dowsett_adlib1      2365.0          1364   \n",
       "nts_adlib1_AAACCCAGTGATTCTG-1   dowsett_adlib1      2435.0          1241   \n",
       "nts_adlib1_AAACGCTCACATTCGA-1   dowsett_adlib1     19008.0          5598   \n",
       "nts_adlib1_AAACGCTCAGACGGAT-1   dowsett_adlib1      2654.0          1319   \n",
       "...                                        ...         ...           ...   \n",
       "nts_fast2_TTTGTTGAGCGCGTTC-1   dowsett_fasted2      4252.0          2238   \n",
       "nts_fast2_TTTGTTGAGGCCCACT-1   dowsett_fasted2      3787.0          1538   \n",
       "nts_fast2_TTTGTTGCACCGGAAA-1   dowsett_fasted2     11627.0          4109   \n",
       "nts_fast2_TTTGTTGGTAGCGATG-1   dowsett_fasted2      1746.0          1031   \n",
       "nts_fast2_TTTGTTGGTGGCCCAT-1   dowsett_fasted2      4005.0          1956   \n",
       "\n",
       "                                 percmt  ratio_nCount_nFeat RNA_snn_res.0.2  \\\n",
       "nts_adlib1_AAACCCACAGATCCTA-1  0.014364            2.254534               9   \n",
       "nts_adlib1_AAACCCAGTCTTGTCC-1  0.000000            1.733871               2   \n",
       "nts_adlib1_AAACCCAGTGATTCTG-1  0.000000            1.962127               1   \n",
       "nts_adlib1_AAACGCTCACATTCGA-1  0.021044            3.395498               0   \n",
       "nts_adlib1_AAACGCTCAGACGGAT-1  0.000000            2.012130               1   \n",
       "...                                 ...                 ...             ...   \n",
       "nts_fast2_TTTGTTGAGCGCGTTC-1   0.023518            1.899911               0   \n",
       "nts_fast2_TTTGTTGAGGCCCACT-1   0.000000            2.462289               1   \n",
       "nts_fast2_TTTGTTGCACCGGAAA-1   0.000000            2.829642               5   \n",
       "nts_fast2_TTTGTTGGTAGCGATG-1   0.057274            1.693501               1   \n",
       "nts_fast2_TTTGTTGGTGGCCCAT-1   0.000000            2.047546              13   \n",
       "\n",
       "                              RNA_snn_res.0.3 RNA_snn_res.0.5 RNA_snn_res.0.7  \\\n",
       "nts_adlib1_AAACCCACAGATCCTA-1               9               8               7   \n",
       "nts_adlib1_AAACCCAGTCTTGTCC-1               2               2              13   \n",
       "nts_adlib1_AAACCCAGTGATTCTG-1               0               0               1   \n",
       "nts_adlib1_AAACGCTCACATTCGA-1               1               1               0   \n",
       "nts_adlib1_AAACGCTCAGACGGAT-1               0               0               1   \n",
       "...                                       ...             ...             ...   \n",
       "nts_fast2_TTTGTTGAGCGCGTTC-1                1               1               0   \n",
       "nts_fast2_TTTGTTGAGGCCCACT-1                0               0               1   \n",
       "nts_fast2_TTTGTTGCACCGGAAA-1                6              10              19   \n",
       "nts_fast2_TTTGTTGGTAGCGATG-1                0               0               1   \n",
       "nts_fast2_TTTGTTGGTGGCCCAT-1               13              13              20   \n",
       "\n",
       "                              RNA_snn_res.1 seurat_clusters treatment  \\\n",
       "nts_adlib1_AAACCCACAGATCCTA-1             8               8     adlib   \n",
       "nts_adlib1_AAACCCAGTCTTGTCC-1            13              13     adlib   \n",
       "nts_adlib1_AAACCCAGTGATTCTG-1             0               0     adlib   \n",
       "nts_adlib1_AAACGCTCACATTCGA-1             2               2     adlib   \n",
       "nts_adlib1_AAACGCTCAGACGGAT-1             0               0     adlib   \n",
       "...                                     ...             ...       ...   \n",
       "nts_fast2_TTTGTTGAGCGCGTTC-1              1               1      fast   \n",
       "nts_fast2_TTTGTTGAGGCCCACT-1              0               0      fast   \n",
       "nts_fast2_TTTGTTGCACCGGAAA-1             22              22      fast   \n",
       "nts_fast2_TTTGTTGGTAGCGATG-1              3               3      fast   \n",
       "nts_fast2_TTTGTTGGTGGCCCAT-1             24              24      fast   \n",
       "\n",
       "                               pANN_0.25_0.005_256 doubletfinder_class  \\\n",
       "nts_adlib1_AAACCCACAGATCCTA-1             0.037037             Singlet   \n",
       "nts_adlib1_AAACCCAGTCTTGTCC-1             0.000000             Singlet   \n",
       "nts_adlib1_AAACCCAGTGATTCTG-1             0.000000             Singlet   \n",
       "nts_adlib1_AAACGCTCACATTCGA-1             0.148148             Singlet   \n",
       "nts_adlib1_AAACGCTCAGACGGAT-1             0.000000             Singlet   \n",
       "...                                            ...                 ...   \n",
       "nts_fast2_TTTGTTGAGCGCGTTC-1                   NaN             Singlet   \n",
       "nts_fast2_TTTGTTGAGGCCCACT-1                   NaN             Singlet   \n",
       "nts_fast2_TTTGTTGCACCGGAAA-1                   NaN             Singlet   \n",
       "nts_fast2_TTTGTTGGTAGCGATG-1                   NaN             Singlet   \n",
       "nts_fast2_TTTGTTGGTGGCCCAT-1                   NaN             Singlet   \n",
       "\n",
       "                               pANN_0.25_0.005_273  seq_sample  \\\n",
       "nts_adlib1_AAACCCACAGATCCTA-1                  NaN  nts_adlib1   \n",
       "nts_adlib1_AAACCCAGTCTTGTCC-1                  NaN  nts_adlib1   \n",
       "nts_adlib1_AAACCCAGTGATTCTG-1                  NaN  nts_adlib1   \n",
       "nts_adlib1_AAACGCTCACATTCGA-1                  NaN  nts_adlib1   \n",
       "nts_adlib1_AAACGCTCAGACGGAT-1                  NaN  nts_adlib1   \n",
       "...                                            ...         ...   \n",
       "nts_fast2_TTTGTTGAGCGCGTTC-1              0.000000   nts_fast2   \n",
       "nts_fast2_TTTGTTGAGGCCCACT-1              0.000000   nts_fast2   \n",
       "nts_fast2_TTTGTTGCACCGGAAA-1              0.125000   nts_fast2   \n",
       "nts_fast2_TTTGTTGGTAGCGATG-1              0.000000   nts_fast2   \n",
       "nts_fast2_TTTGTTGGTGGCCCAT-1              0.214286   nts_fast2   \n",
       "\n",
       "                                     cell_barcode  _scvi_batch  _scvi_labels  \\\n",
       "nts_adlib1_AAACCCACAGATCCTA-1  AAACCCACAGATCCTA-1            7             0   \n",
       "nts_adlib1_AAACCCAGTCTTGTCC-1  AAACCCAGTCTTGTCC-1            7             0   \n",
       "nts_adlib1_AAACCCAGTGATTCTG-1  AAACCCAGTGATTCTG-1            7             0   \n",
       "nts_adlib1_AAACGCTCACATTCGA-1  AAACGCTCACATTCGA-1            7             0   \n",
       "nts_adlib1_AAACGCTCAGACGGAT-1  AAACGCTCAGACGGAT-1            7             0   \n",
       "...                                           ...          ...           ...   \n",
       "nts_fast2_TTTGTTGAGCGCGTTC-1   TTTGTTGAGCGCGTTC-1           10             0   \n",
       "nts_fast2_TTTGTTGAGGCCCACT-1   TTTGTTGAGGCCCACT-1           10             0   \n",
       "nts_fast2_TTTGTTGCACCGGAAA-1   TTTGTTGCACCGGAAA-1           10             0   \n",
       "nts_fast2_TTTGTTGGTAGCGATG-1   TTTGTTGGTAGCGATG-1           10             0   \n",
       "nts_fast2_TTTGTTGGTGGCCCAT-1   TTTGTTGGTGGCCCAT-1           10             0   \n",
       "\n",
       "                                               identity_layer3  \n",
       "nts_adlib1_AAACCCACAGATCCTA-1                   Sall3_Nox4_Hes  \n",
       "nts_adlib1_AAACCCAGTCTTGTCC-1               myelinating_OL_Hes  \n",
       "nts_adlib1_AAACCCAGTGATTCTG-1  myelinating_intermediate_OL_Hes  \n",
       "nts_adlib1_AAACGCTCACATTCGA-1               mixed_neurons3_Hes  \n",
       "nts_adlib1_AAACGCTCAGACGGAT-1  myelinating_intermediate_OL_Hes  \n",
       "...                                                        ...  \n",
       "nts_fast2_TTTGTTGAGCGCGTTC-1                          A_M2_Hes  \n",
       "nts_fast2_TTTGTTGAGGCCCACT-1   myelinating_intermediate_OL_Hes  \n",
       "nts_fast2_TTTGTTGCACCGGAAA-1                     paradoxic_Hes  \n",
       "nts_fast2_TTTGTTGGTAGCGATG-1   myelinating_intermediate_OL_Hes  \n",
       "nts_fast2_TTTGTTGGTGGCCCAT-1             premyelinating_OL_Hes  \n",
       "\n",
       "[15931 rows x 20 columns]"
      ]
     },
     "execution_count": 19,
     "metadata": {},
     "output_type": "execute_result"
    }
   ],
   "source": [
    "adata_dowsett.obs"
   ]
  },
  {
   "cell_type": "code",
   "execution_count": 20,
   "id": "3c4fae59-8cba-4e5e-9913-2460ae9a80de",
   "metadata": {},
   "outputs": [],
   "source": [
    "#Save new objects\n",
    "query_latent.write('prediction_dowsett_2500/dowsett_latent_labeled_2500.h5ad')\n",
    "adata_dowsett.write('prediction_dowsett_2500/dowsett_data_new_labeled_2500.h5ad')"
   ]
  }
 ],
 "metadata": {
  "kernelspec": {
   "display_name": "Python 3 (ipykernel)",
   "language": "python",
   "name": "python3"
  },
  "language_info": {
   "codemirror_mode": {
    "name": "ipython",
    "version": 3
   },
   "file_extension": ".py",
   "mimetype": "text/x-python",
   "name": "python",
   "nbconvert_exporter": "python",
   "pygments_lexer": "ipython3",
   "version": "3.9.12"
  }
 },
 "nbformat": 4,
 "nbformat_minor": 5
}
